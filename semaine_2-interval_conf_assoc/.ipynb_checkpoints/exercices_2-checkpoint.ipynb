{
 "cells": [
  {
   "cell_type": "markdown",
   "metadata": {},
   "source": [
    "#### exercice 1"
   ]
  },
  {
   "cell_type": "code",
   "execution_count": 1,
   "metadata": {},
   "outputs": [],
   "source": [
    "a <- c('A','B','C','A','B','D', 'A')"
   ]
  },
  {
   "cell_type": "code",
   "execution_count": 2,
   "metadata": {},
   "outputs": [
    {
     "data": {
      "text/html": [
       "<ol class=list-inline>\n",
       "\t<li>1</li>\n",
       "\t<li>4</li>\n",
       "\t<li>7</li>\n",
       "</ol>\n"
      ],
      "text/latex": [
       "\\begin{enumerate*}\n",
       "\\item 1\n",
       "\\item 4\n",
       "\\item 7\n",
       "\\end{enumerate*}\n"
      ],
      "text/markdown": [
       "1. 1\n",
       "2. 4\n",
       "3. 7\n",
       "\n",
       "\n"
      ],
      "text/plain": [
       "[1] 1 4 7"
      ]
     },
     "metadata": {},
     "output_type": "display_data"
    }
   ],
   "source": [
    "which(a=='A')"
   ]
  },
  {
   "cell_type": "markdown",
   "metadata": {},
   "source": [
    "#### exercice 2"
   ]
  },
  {
   "cell_type": "code",
   "execution_count": 3,
   "metadata": {},
   "outputs": [
    {
     "data": {
      "image/png": "[encoded data removed]",
      "text/plain": [
       "plot without title"
      ]
     },
     "metadata": {},
     "output_type": "display_data"
    }
   ],
   "source": [
    "barplot(table(a))"
   ]
  },
  {
   "cell_type": "markdown",
   "metadata": {},
   "source": [
    "#### exercice 4"
   ]
  },
  {
   "cell_type": "code",
   "execution_count": 4,
   "metadata": {},
   "outputs": [],
   "source": [
    "data <- read.csv2('../data/smp2.csv')"
   ]
  },
  {
   "cell_type": "code",
   "execution_count": 5,
   "metadata": {},
   "outputs": [
    {
     "name": "stdout",
     "output_type": "stream",
     "text": [
      "'data.frame':\t799 obs. of  26 variables:\n",
      " $ age         : int  31 49 50 47 23 34 24 52 42 45 ...\n",
      " $ prof        : Factor w/ 8 levels \"agriculteur\",..: 3 NA 7 6 8 6 3 2 6 6 ...\n",
      " $ duree       : int  4 NA 5 NA 4 NA NA 5 4 NA ...\n",
      " $ discip      : int  0 0 0 0 1 0 0 0 1 0 ...\n",
      " $ n.enfant    : int  2 7 2 0 1 3 5 2 1 2 ...\n",
      " $ n.fratrie   : int  4 3 2 6 6 2 3 9 12 5 ...\n",
      " $ ecole       : int  1 2 2 1 1 2 1 2 1 2 ...\n",
      " $ separation  : int  0 1 0 1 1 0 1 0 1 0 ...\n",
      " $ juge.enfant : int  0 0 0 0 NA 0 1 0 1 0 ...\n",
      " $ place       : int  0 0 0 1 1 0 1 0 0 0 ...\n",
      " $ abus        : int  0 0 0 0 0 0 0 0 1 1 ...\n",
      " $ grav.cons   : int  1 2 2 1 2 1 5 1 5 5 ...\n",
      " $ dep.cons    : int  0 0 0 0 1 0 1 0 1 0 ...\n",
      " $ ago.cons    : int  1 0 0 0 0 0 0 0 0 0 ...\n",
      " $ ptsd.cons   : int  0 0 0 0 0 0 0 0 0 0 ...\n",
      " $ alc.cons    : int  0 0 0 0 0 0 0 0 1 1 ...\n",
      " $ subst.cons  : int  0 0 0 0 0 0 1 0 1 0 ...\n",
      " $ scz.cons    : int  0 0 0 0 0 0 0 0 0 0 ...\n",
      " $ char        : int  1 1 1 1 1 1 1 1 4 1 ...\n",
      " $ rs          : int  2 2 2 2 2 1 3 2 3 2 ...\n",
      " $ ed          : int  1 2 3 2 2 2 3 2 3 2 ...\n",
      " $ dr          : int  1 1 2 2 2 1 2 2 1 2 ...\n",
      " $ suicide.s   : int  0 0 0 1 0 0 3 0 4 0 ...\n",
      " $ suicide.hr  : int  0 0 0 0 0 0 1 0 1 0 ...\n",
      " $ suicide.past: int  0 0 0 0 1 0 1 0 1 0 ...\n",
      " $ dur.interv  : int  NA 70 NA 105 NA NA 105 84 78 60 ...\n"
     ]
    }
   ],
   "source": [
    "str(data)"
   ]
  },
  {
   "cell_type": "markdown",
   "metadata": {},
   "source": [
    "Quel est le nombre moyen d'enfants (variable n.enfant) chez les individus diagnostiqués comme dépressifs (dep.cons = 1) (2 chiffres après la virgule) ?"
   ]
  },
  {
   "cell_type": "code",
   "execution_count": 6,
   "metadata": {},
   "outputs": [
    {
     "data": {
      "text/html": [
       "1.76"
      ],
      "text/latex": [
       "1.76"
      ],
      "text/markdown": [
       "1.76"
      ],
      "text/plain": [
       "[1] 1.76"
      ]
     },
     "metadata": {},
     "output_type": "display_data"
    }
   ],
   "source": [
    "round(mean(subset(data, dep.cons == 1, n.enfant)$n.enfant, na.rm=TRUE), digits = 2)"
   ]
  },
  {
   "cell_type": "markdown",
   "metadata": {},
   "source": [
    "#### exercice 5"
   ]
  },
  {
   "cell_type": "markdown",
   "metadata": {},
   "source": [
    "Donner la borne supérieure de l'intervalle interquartile pour la variable duree chez les individus dont l'âge est strictement inférieur à 35 ans (2 chiffres après la virgule)."
   ]
  },
  {
   "cell_type": "code",
   "execution_count": 7,
   "metadata": {},
   "outputs": [
    {
     "data": {
      "text/plain": [
       "   Min. 1st Qu.  Median    Mean 3rd Qu.    Max.    NA's \n",
       "   19.0    28.0    37.0    38.9    48.0    83.0       2 "
      ]
     },
     "metadata": {},
     "output_type": "display_data"
    }
   ],
   "source": [
    "summary(data$age)"
   ]
  },
  {
   "cell_type": "code",
   "execution_count": 8,
   "metadata": {},
   "outputs": [
    {
     "data": {
      "text/html": [
       "<strong>75%:</strong> 48"
      ],
      "text/latex": [
       "\\textbf{75\\textbackslash{}\\%:} 48"
      ],
      "text/markdown": [
       "**75%:** 48"
      ],
      "text/plain": [
       "75% \n",
       " 48 "
      ]
     },
     "metadata": {},
     "output_type": "display_data"
    }
   ],
   "source": [
    "quantile(data$age, na.rm=TRUE)[4]"
   ]
  },
  {
   "cell_type": "code",
   "execution_count": 9,
   "metadata": {},
   "outputs": [
    {
     "data": {
      "text/html": [
       "<strong>75%:</strong> 5"
      ],
      "text/latex": [
       "\\textbf{75\\textbackslash{}\\%:} 5"
      ],
      "text/markdown": [
       "**75%:** 5"
      ],
      "text/plain": [
       "75% \n",
       "  5 "
      ]
     },
     "metadata": {},
     "output_type": "display_data"
    }
   ],
   "source": [
    "round(\n",
    "    quantile(\n",
    "        subset(\n",
    "            data, age < 35, duree\n",
    "        ), na.rm=TRUE\n",
    "    )[4],\n",
    "    digits=2)"
   ]
  },
  {
   "cell_type": "code",
   "execution_count": 10,
   "metadata": {},
   "outputs": [],
   "source": [
    "#quantile(smp$duree[smp$age < 35], na.rm = TRUE)\n",
    "#ou\n",
    "#summary(smp$duree[smp$age < 35], na.rm = TRUE)\n",
    "#ou\n",
    "#quantile(smp$duree[smp$age < 35], na.rm = TRUE, probs = .75)"
   ]
  },
  {
   "cell_type": "markdown",
   "metadata": {},
   "source": [
    "#### exercice 6"
   ]
  },
  {
   "cell_type": "markdown",
   "metadata": {},
   "source": [
    "Nous souhaitons estimer la durée moyenne d'intervention (dur.interv) chez les individus ayant au moins un antécédent de tentative de suicide (suicide.past = 1). Quelle commande pouvons-nous utiliser ?"
   ]
  },
  {
   "cell_type": "code",
   "execution_count": 11,
   "metadata": {},
   "outputs": [
    {
     "data": {
      "text/html": [
       "67.3507109004739"
      ],
      "text/latex": [
       "67.3507109004739"
      ],
      "text/markdown": [
       "67.3507109004739"
      ],
      "text/plain": [
       "[1] 67.35071"
      ]
     },
     "metadata": {},
     "output_type": "display_data"
    }
   ],
   "source": [
    "mean(\n",
    "subset(data, suicide.past >= 1, dur.interv)$dur.interv, na.rm=TRUE)"
   ]
  },
  {
   "cell_type": "code",
   "execution_count": 12,
   "metadata": {},
   "outputs": [
    {
     "data": {
      "text/html": [
       "67.3507109004739"
      ],
      "text/latex": [
       "67.3507109004739"
      ],
      "text/markdown": [
       "67.3507109004739"
      ],
      "text/plain": [
       "[1] 67.35071"
      ]
     },
     "metadata": {},
     "output_type": "display_data"
    }
   ],
   "source": [
    "mean(data[data$suicide.past == 1, 'dur.interv'], na.rm=TRUE)"
   ]
  },
  {
   "cell_type": "code",
   "execution_count": 13,
   "metadata": {},
   "outputs": [
    {
     "data": {
      "text/html": [
       "&lt;NA&gt;"
      ],
      "text/latex": [
       "<NA>"
      ],
      "text/markdown": [
       "&lt;NA&gt;"
      ],
      "text/plain": [
       "[1] NA"
      ]
     },
     "metadata": {},
     "output_type": "display_data"
    }
   ],
   "source": [
    " mean(data$dur.interv[data$suicide.past == 1])"
   ]
  },
  {
   "cell_type": "markdown",
   "metadata": {},
   "source": [
    "#### exercice 7"
   ]
  },
  {
   "cell_type": "markdown",
   "metadata": {},
   "source": [
    "À partir du data frame smp, nous souhaitons recoder l’âge (variable age) en variable catégorielle en considérant 4 intervalles de classe dont les bornes intermédiaires sont définies à partir des 1er, 2ème et 3ème quartiles.\n",
    "\n",
    "Les bornes inférieures et supérieures de la première et dernière classe seront naturellement les valeurs minimale et maximale observées pour la variable age. À l'exception de la première classe dont les deux bornes d'intervalle seront fermées (c'est-à-dire que les bornes seront inclues dans l'intervalle), les bornes inférieures des classes suivantes (2 à 4) seront ouvertes, et les bornes supérieures fermées. Indiquer l'effectif associé à la 3ème classe ainsi constituée."
   ]
  },
  {
   "cell_type": "code",
   "execution_count": 14,
   "metadata": {},
   "outputs": [
    {
     "data": {
      "text/plain": [
       "   Min. 1st Qu.  Median    Mean 3rd Qu.    Max.    NA's \n",
       "   19.0    28.0    37.0    38.9    48.0    83.0       2 "
      ]
     },
     "metadata": {},
     "output_type": "display_data"
    }
   ],
   "source": [
    "summary(data$age)"
   ]
  },
  {
   "cell_type": "code",
   "execution_count": 15,
   "metadata": {},
   "outputs": [
    {
     "data": {
      "text/html": [
       "19"
      ],
      "text/latex": [
       "19"
      ],
      "text/markdown": [
       "19"
      ],
      "text/plain": [
       "[1] 19"
      ]
     },
     "metadata": {},
     "output_type": "display_data"
    }
   ],
   "source": [
    "min(data$age, na.rm=TRUE)"
   ]
  },
  {
   "cell_type": "code",
   "execution_count": 16,
   "metadata": {},
   "outputs": [
    {
     "data": {
      "text/html": [
       "199.75"
      ],
      "text/latex": [
       "199.75"
      ],
      "text/markdown": [
       "199.75"
      ],
      "text/plain": [
       "[1] 199.75"
      ]
     },
     "metadata": {},
     "output_type": "display_data"
    }
   ],
   "source": [
    "length(data$age) / 4"
   ]
  },
  {
   "cell_type": "code",
   "execution_count": 17,
   "metadata": {},
   "outputs": [],
   "source": [
    "help(length)"
   ]
  },
  {
   "cell_type": "code",
   "execution_count": 18,
   "metadata": {},
   "outputs": [
    {
     "data": {
      "text/plain": [
       "   Min. 1st Qu.  Median    Mean 3rd Qu.    Max.    NA's \n",
       "   19.0    28.0    37.0    38.9    48.0    83.0       2 "
      ]
     },
     "metadata": {},
     "output_type": "display_data"
    },
    {
     "data": {
      "text/plain": [
       "\n",
       "[19,28] (28,37] (37,48] (48,83] \n",
       "    212     190     209     186 "
      ]
     },
     "metadata": {},
     "output_type": "display_data"
    }
   ],
   "source": [
    "summary(data$age)\n",
    "data$age.cat <- cut(data$age, breaks = c(19, 28, 37, 48, 83), include.lowest = TRUE)\n",
    "table(data$age.cat)"
   ]
  },
  {
   "cell_type": "markdown",
   "metadata": {},
   "source": [
    "##### SECTION 2 bis"
   ]
  },
  {
   "cell_type": "markdown",
   "metadata": {},
   "source": [
    "Nous supposons que nous disposons d'une variable numérique x, sans données manquantes, dont nous souhaitons représenter la distribution sous forme d'histogramme d'effectifs constitué de 6 classes d'intervalles. Quelle commande pouvons nous utiliser ?"
   ]
  },
  {
   "cell_type": "code",
   "execution_count": 25,
   "metadata": {},
   "outputs": [
    {
     "data": {
      "image/png": "[encoded data removed]",
      "text/plain": [
       "Plot with title \"Histogram of data$age\""
      ]
     },
     "metadata": {},
     "output_type": "display_data"
    }
   ],
   "source": [
    "hist(data$age, breaks=6)"
   ]
  },
  {
   "cell_type": "code",
   "execution_count": 24,
   "metadata": {},
   "outputs": [],
   "source": [
    "help(hist)"
   ]
  },
  {
   "cell_type": "markdown",
   "metadata": {},
   "source": [
    "Pour afficher un tableau de fréquences relatives d'une variable qualitative z (sans données manquantes), nous utilisons la commande"
   ]
  },
  {
   "cell_type": "code",
   "execution_count": 29,
   "metadata": {},
   "outputs": [
    {
     "data": {
      "text/plain": [
       "\n",
       "         19          20          21          22          23          24 \n",
       "0.018820577 0.018820577 0.022584693 0.016311167 0.028858218 0.037641154 \n",
       "         25          26          27          28          29          30 \n",
       "0.027603513 0.037641154 0.031367629 0.026348808 0.025094103 0.031367629 \n",
       "         31          32          33          34          35          36 \n",
       "0.022584693 0.027603513 0.032622334 0.025094103 0.020075282 0.022584693 \n",
       "         37          38          39          40          41          42 \n",
       "0.031367629 0.030112923 0.028858218 0.027603513 0.028858218 0.023839398 \n",
       "         43          44          45          46          47          48 \n",
       "0.021329987 0.023839398 0.021329987 0.020075282 0.015056462 0.021329987 \n",
       "         49          50          51          52          53          54 \n",
       "0.028858218 0.020075282 0.013801757 0.012547051 0.010037641 0.013801757 \n",
       "         55          56          57          58          59          60 \n",
       "0.007528231 0.017565872 0.011292346 0.008782936 0.007528231 0.008782936 \n",
       "         61          62          63          64          65          66 \n",
       "0.006273526 0.008782936 0.005018821 0.006273526 0.003764115 0.007528231 \n",
       "         67          68          69          70          71          72 \n",
       "0.005018821 0.002509410 0.001254705 0.001254705 0.007528231 0.003764115 \n",
       "         73          74          77          79          81          83 \n",
       "0.002509410 0.002509410 0.003764115 0.001254705 0.001254705 0.002509410 "
      ]
     },
     "metadata": {},
     "output_type": "display_data"
    }
   ],
   "source": [
    "prop.table(table(data$age))"
   ]
  },
  {
   "cell_type": "markdown",
   "metadata": {},
   "source": [
    "Existe-t-il des données manquantes parmi les individus dont les n° d'observation (n° de ligne dans le data frame smp) sont les suivants : 20, 221, 342, 446, 531."
   ]
  },
  {
   "cell_type": "code",
   "execution_count": 34,
   "metadata": {},
   "outputs": [
    {
     "name": "stdout",
     "output_type": "stream",
     "text": [
      "'data.frame':\t5 obs. of  27 variables:\n",
      " $ age         : int  28 57 37 51 51\n",
      " $ prof        : Factor w/ 8 levels \"agriculteur\",..: 6 8 8 6 2\n",
      " $ duree       : int  5 5 4 3 5\n",
      " $ discip      : int  0 0 0 0 0\n",
      " $ n.enfant    : int  1 2 1 1 4\n",
      " $ n.fratrie   : int  1 2 2 3 5\n",
      " $ ecole       : int  2 2 1 3 1\n",
      " $ separation  : int  0 0 1 0 0\n",
      " $ juge.enfant : int  0 0 0 0 0\n",
      " $ place       : int  0 0 0 0 0\n",
      " $ abus        : int  0 1 0 0 1\n",
      " $ grav.cons   : int  2 5 1 2 6\n",
      " $ dep.cons    : int  0 1 0 0 1\n",
      " $ ago.cons    : int  0 0 0 0 0\n",
      " $ ptsd.cons   : int  0 0 0 0 0\n",
      " $ alc.cons    : int  0 0 0 0 0\n",
      " $ subst.cons  : int  1 0 0 0 0\n",
      " $ scz.cons    : int  0 0 0 0 1\n",
      " $ char        : int  1 2 1 1 2\n",
      " $ rs          : int  2 1 1 2 3\n",
      " $ ed          : int  2 3 2 2 3\n",
      " $ dr          : int  2 3 2 2 3\n",
      " $ suicide.s   : int  0 4 0 0 3\n",
      " $ suicide.hr  : int  0 1 0 0 1\n",
      " $ suicide.past: int  1 1 0 0 0\n",
      " $ dur.interv  : int  95 50 30 85 68\n",
      " $ age.cat     : Factor w/ 4 levels \"[19,28]\",\"(28,37]\",..: 1 4 2 4 4\n"
     ]
    }
   ],
   "source": [
    "str(data[c(20,221,342,446,531),])"
   ]
  },
  {
   "cell_type": "code",
   "execution_count": 48,
   "metadata": {},
   "outputs": [
    {
     "data": {
      "text/plain": [
       "      age                prof       duree         discip     n.enfant  \n",
       " Min.   :28.0   ouvrier    :2   Min.   :3.0   Min.   :0   Min.   :1.0  \n",
       " 1st Qu.:37.0   sans emploi:2   1st Qu.:4.0   1st Qu.:0   1st Qu.:1.0  \n",
       " Median :51.0   artisan    :1   Median :5.0   Median :0   Median :1.0  \n",
       " Mean   :44.8   agriculteur:0   Mean   :4.4   Mean   :0   Mean   :1.8  \n",
       " 3rd Qu.:51.0   autre      :0   3rd Qu.:5.0   3rd Qu.:0   3rd Qu.:2.0  \n",
       " Max.   :57.0   cadre      :0   Max.   :5.0   Max.   :0   Max.   :4.0  \n",
       "                (Other)    :0                                          \n",
       "   n.fratrie       ecole       separation   juge.enfant     place  \n",
       " Min.   :1.0   Min.   :1.0   Min.   :0.0   Min.   :0    Min.   :0  \n",
       " 1st Qu.:2.0   1st Qu.:1.0   1st Qu.:0.0   1st Qu.:0    1st Qu.:0  \n",
       " Median :2.0   Median :2.0   Median :0.0   Median :0    Median :0  \n",
       " Mean   :2.6   Mean   :1.8   Mean   :0.2   Mean   :0    Mean   :0  \n",
       " 3rd Qu.:3.0   3rd Qu.:2.0   3rd Qu.:0.0   3rd Qu.:0    3rd Qu.:0  \n",
       " Max.   :5.0   Max.   :3.0   Max.   :1.0   Max.   :0    Max.   :0  \n",
       "                                                                   \n",
       "      abus       grav.cons      dep.cons      ago.cons   ptsd.cons    alc.cons\n",
       " Min.   :0.0   Min.   :1.0   Min.   :0.0   Min.   :0   Min.   :0   Min.   :0  \n",
       " 1st Qu.:0.0   1st Qu.:2.0   1st Qu.:0.0   1st Qu.:0   1st Qu.:0   1st Qu.:0  \n",
       " Median :0.0   Median :2.0   Median :0.0   Median :0   Median :0   Median :0  \n",
       " Mean   :0.4   Mean   :3.2   Mean   :0.4   Mean   :0   Mean   :0   Mean   :0  \n",
       " 3rd Qu.:1.0   3rd Qu.:5.0   3rd Qu.:1.0   3rd Qu.:0   3rd Qu.:0   3rd Qu.:0  \n",
       " Max.   :1.0   Max.   :6.0   Max.   :1.0   Max.   :0   Max.   :0   Max.   :0  \n",
       "                                                                              \n",
       "   subst.cons     scz.cons        char           rs            ed     \n",
       " Min.   :0.0   Min.   :0.0   Min.   :1.0   Min.   :1.0   Min.   :2.0  \n",
       " 1st Qu.:0.0   1st Qu.:0.0   1st Qu.:1.0   1st Qu.:1.0   1st Qu.:2.0  \n",
       " Median :0.0   Median :0.0   Median :1.0   Median :2.0   Median :2.0  \n",
       " Mean   :0.2   Mean   :0.2   Mean   :1.4   Mean   :1.8   Mean   :2.4  \n",
       " 3rd Qu.:0.0   3rd Qu.:0.0   3rd Qu.:2.0   3rd Qu.:2.0   3rd Qu.:3.0  \n",
       " Max.   :1.0   Max.   :1.0   Max.   :2.0   Max.   :3.0   Max.   :3.0  \n",
       "                                                                      \n",
       "       dr        suicide.s     suicide.hr   suicide.past   dur.interv  \n",
       " Min.   :2.0   Min.   :0.0   Min.   :0.0   Min.   :0.0   Min.   :30.0  \n",
       " 1st Qu.:2.0   1st Qu.:0.0   1st Qu.:0.0   1st Qu.:0.0   1st Qu.:50.0  \n",
       " Median :2.0   Median :0.0   Median :0.0   Median :0.0   Median :68.0  \n",
       " Mean   :2.4   Mean   :1.4   Mean   :0.4   Mean   :0.4   Mean   :65.6  \n",
       " 3rd Qu.:3.0   3rd Qu.:3.0   3rd Qu.:1.0   3rd Qu.:1.0   3rd Qu.:85.0  \n",
       " Max.   :3.0   Max.   :4.0   Max.   :1.0   Max.   :1.0   Max.   :95.0  \n",
       "                                                                       \n",
       "    age.cat \n",
       " [19,28]:1  \n",
       " (28,37]:1  \n",
       " (37,48]:0  \n",
       " (48,83]:3  \n",
       "            \n",
       "            \n",
       "            "
      ]
     },
     "metadata": {},
     "output_type": "display_data"
    }
   ],
   "source": [
    "summary(data[c(20,221,342,446,531),])"
   ]
  },
  {
   "cell_type": "code",
   "execution_count": 36,
   "metadata": {},
   "outputs": [
    {
     "data": {
      "text/html": [
       "0"
      ],
      "text/latex": [
       "0"
      ],
      "text/markdown": [
       "0"
      ],
      "text/plain": [
       "[1] 0"
      ]
     },
     "metadata": {},
     "output_type": "display_data"
    }
   ],
   "source": [
    "sum(is.na(data[c(20,221,342,446,531),]))"
   ]
  },
  {
   "cell_type": "markdown",
   "metadata": {},
   "source": [
    "Quelle est la proportion relative d'individus (exprimée en %) sans emploi parmi l'ensemble des 799 individus (2 chiffres après la virgule)?"
   ]
  },
  {
   "cell_type": "code",
   "execution_count": 39,
   "metadata": {},
   "outputs": [
    {
     "data": {
      "text/html": [
       "799"
      ],
      "text/latex": [
       "799"
      ],
      "text/markdown": [
       "799"
      ],
      "text/plain": [
       "[1] 799"
      ]
     },
     "metadata": {},
     "output_type": "display_data"
    }
   ],
   "source": [
    "sum(table(data$prof, useNA = 'always'))"
   ]
  },
  {
   "cell_type": "code",
   "execution_count": 40,
   "metadata": {},
   "outputs": [
    {
     "data": {
      "text/plain": [
       "\n",
       "       agriculteur            artisan              autre              cadre \n",
       "       0.007509387        0.112640801        0.038798498        0.030037547 \n",
       "           employe            ouvrier prof.intermediaire        sans emploi \n",
       "       0.168961202        0.284105131        0.072590738        0.277847309 \n",
       "              <NA> \n",
       "       0.007509387 "
      ]
     },
     "metadata": {},
     "output_type": "display_data"
    }
   ],
   "source": [
    "prop.table(table(data$prof, useNA = 'always'))"
   ]
  },
  {
   "cell_type": "code",
   "execution_count": 41,
   "metadata": {},
   "outputs": [
    {
     "data": {
      "text/html": [
       "<strong>sans emploi:</strong> 0.277847309136421"
      ],
      "text/latex": [
       "\\textbf{sans emploi:} 0.277847309136421"
      ],
      "text/markdown": [
       "**sans emploi:** 0.277847309136421"
      ],
      "text/plain": [
       "sans emploi \n",
       "  0.2778473 "
      ]
     },
     "metadata": {},
     "output_type": "display_data"
    }
   ],
   "source": [
    "prop.table(table(data$prof, useNA = 'always'))['sans emploi']"
   ]
  },
  {
   "cell_type": "code",
   "execution_count": 42,
   "metadata": {},
   "outputs": [
    {
     "data": {
      "text/html": [
       "<strong>sans emploi:</strong> 27.78"
      ],
      "text/latex": [
       "\\textbf{sans emploi:} 27.78"
      ],
      "text/markdown": [
       "**sans emploi:** 27.78"
      ],
      "text/plain": [
       "sans emploi \n",
       "      27.78 "
      ]
     },
     "metadata": {},
     "output_type": "display_data"
    }
   ],
   "source": [
    "round(prop.table(table(data$prof, useNA = 'always'))['sans emploi'] * 100, 2)"
   ]
  },
  {
   "cell_type": "markdown",
   "metadata": {},
   "source": [
    "Combien d'individus ont un âge compris entre 20 et 30 ans, inclus ?"
   ]
  },
  {
   "cell_type": "code",
   "execution_count": 47,
   "metadata": {},
   "outputs": [
    {
     "data": {
      "text/html": [
       "242"
      ],
      "text/latex": [
       "242"
      ],
      "text/markdown": [
       "242"
      ],
      "text/plain": [
       "[1] 242"
      ]
     },
     "metadata": {},
     "output_type": "display_data"
    }
   ],
   "source": [
    "nrow(subset(data, age >= 20 & age <= 30))"
   ]
  },
  {
   "cell_type": "code",
   "execution_count": null,
   "metadata": {},
   "outputs": [],
   "source": []
  }
 ],
 "metadata": {
  "kernelspec": {
   "display_name": "R",
   "language": "R",
   "name": "ir"
  },
  "language_info": {
   "codemirror_mode": "r",
   "file_extension": ".r",
   "mimetype": "text/x-r-source",
   "name": "R",
   "pygments_lexer": "r",
   "version": "3.5.1"
  }
 },
 "nbformat": 4,
 "nbformat_minor": 2
}
