{
 "cells": [
  {
   "cell_type": "markdown",
   "metadata": {},
   "source": [
    "1. Estimez le modèle de régression linéaire expliquant la variable « score.relation » par les variables « age », « sexe », « score.information », « amelioration.sante », « amelioration.moral », « profession »,  « service ». (le script doit inclure la vérification éventuelle des conditions de validité de la méthode utilisée)"
   ]
  },
  {
   "cell_type": "code",
   "execution_count": 2,
   "metadata": {},
   "outputs": [],
   "source": [
    "data = read.csv2('../data/satisfaction_hopital.csv')"
   ]
  },
  {
   "cell_type": "code",
   "execution_count": 3,
   "metadata": {},
   "outputs": [
    {
     "name": "stdout",
     "output_type": "stream",
     "text": [
      "'data.frame':\t534 obs. of  9 variables:\n",
      " $ service           : int  3 3 3 3 3 3 3 3 3 3 ...\n",
      " $ sexe              : int  0 1 1 0 1 0 0 0 0 1 ...\n",
      " $ age               : int  41 29 83 66 84 84 60 85 28 35 ...\n",
      " $ profession        : int  4 8 2 3 NA 6 3 3 3 3 ...\n",
      " $ amelioration.sante: int  1 2 2 2 NA 3 2 3 3 3 ...\n",
      " $ amelioration.moral: int  0 3 1 0 NA 3 1 1 1 2 ...\n",
      " $ recommander       : int  1 2 2 2 NA 2 1 2 1 NA ...\n",
      " $ score.relation    : int  36 33 40 32 NA 39 31 NA 36 NA ...\n",
      " $ score.information : int  22 36 37 35 NA 28 30 NA 29 NA ...\n"
     ]
    }
   ],
   "source": [
    "str(data)"
   ]
  },
  {
   "cell_type": "code",
   "execution_count": 4,
   "metadata": {},
   "outputs": [
    {
     "name": "stdout",
     "output_type": "stream",
     "text": [
      "\n",
      "Call:\n",
      "lm(formula = score.relation ~ age + sexe + score.information + \n",
      "    amelioration.sante + amelioration.moral + profession + service, \n",
      "    data = data)\n",
      "\n",
      "Coefficients:\n",
      "       (Intercept)                 age                sexe   score.information  \n",
      "          20.74420             0.04276            -0.49000             0.27390  \n",
      "amelioration.sante  amelioration.moral          profession             service  \n",
      "           0.65586             0.74913             0.07315             0.10190  \n",
      "\n"
     ]
    }
   ],
   "source": [
    "# application d'une régression linéaire multiple avec des variables catégorielles\n",
    "model = lm(score.relation~age+sexe+score.information+amelioration.sante+\n",
    "   amelioration.moral+profession+service, data=data)\n",
    "print(model)"
   ]
  },
  {
   "cell_type": "code",
   "execution_count": 5,
   "metadata": {},
   "outputs": [
    {
     "data": {
      "image/png": "[encoded data removed]",
      "text/plain": [
       "Plot with title \"Histogram of resid(model)\""
      ]
     },
     "metadata": {},
     "output_type": "display_data"
    }
   ],
   "source": [
    "# vérifions la condition de validité du modèle absence de structure de corrélation du bruit\n",
    "# en affichant les points résiduels du modèle précedent\n",
    "hist(resid(model))\n",
    "# ça n'a pas l'air centré autour de zéro, pour moi cette condition de validité n'est pas vérifiée..."
   ]
  },
  {
   "cell_type": "markdown",
   "metadata": {},
   "source": [
    "##### Corrigé"
   ]
  },
  {
   "cell_type": "code",
   "execution_count": 8,
   "metadata": {},
   "outputs": [],
   "source": [
    "# Il est nécessaire de recoder les variables catégorielles qui ont plus de\n",
    "# deux classes pour réaliser correctement les analyses de régression\n",
    "# linéaire. Les variables binaires (telles que sexe) sont correctement traitées.\n",
    "\n",
    "data$profession.cat<-factor(data$profession)\n",
    "data$amelioration.sante.cat<-factor(data$amelioration.sante)\n",
    "data$amelioration.moral.cat<-factor(data$amelioration.moral)\n",
    "data$service.cat<-factor(data$service)"
   ]
  },
  {
   "cell_type": "code",
   "execution_count": 9,
   "metadata": {},
   "outputs": [
    {
     "data": {
      "text/html": [
       "<table>\n",
       "<thead><tr><th></th><th scope=col>Df</th><th scope=col>Sum of Sq</th><th scope=col>RSS</th><th scope=col>AIC</th><th scope=col>F value</th><th scope=col>Pr(&gt;F)</th></tr></thead>\n",
       "<tbody>\n",
       "\t<tr><th scope=row>&lt;none&gt;</th><td>NA          </td><td>       NA   </td><td>3625.161    </td><td>778.9467    </td><td>       NA   </td><td>          NA</td></tr>\n",
       "\t<tr><th scope=row>age</th><td> 1          </td><td> 47.95865   </td><td>3673.119    </td><td>780.7449    </td><td> 3.505788   </td><td>6.225595e-02</td></tr>\n",
       "\t<tr><th scope=row>sexe</th><td> 1          </td><td> 25.63878   </td><td>3650.799    </td><td>778.9834    </td><td> 1.874200   </td><td>1.721541e-01</td></tr>\n",
       "\t<tr><th scope=row>score.information</th><td> 1          </td><td>563.44533   </td><td>4188.606    </td><td>818.6983    </td><td>41.187972   </td><td>6.342560e-10</td></tr>\n",
       "\t<tr><th scope=row>amelioration.sante.cat</th><td> 3          </td><td>315.45185   </td><td>3940.612    </td><td>797.0601    </td><td> 7.686532   </td><td>6.063976e-05</td></tr>\n",
       "\t<tr><th scope=row>amelioration.moral.cat</th><td> 3          </td><td>593.71681   </td><td>4218.877    </td><td>816.7794    </td><td>14.466941   </td><td>9.351124e-09</td></tr>\n",
       "\t<tr><th scope=row>profession.cat</th><td> 7          </td><td>129.94016   </td><td>3755.101    </td><td>775.1242    </td><td> 1.356950   </td><td>2.238966e-01</td></tr>\n",
       "\t<tr><th scope=row>service.cat</th><td> 7          </td><td>185.75353   </td><td>3810.914    </td><td>779.3881    </td><td> 1.939803   </td><td>6.367215e-02</td></tr>\n",
       "</tbody>\n",
       "</table>\n"
      ],
      "text/latex": [
       "\\begin{tabular}{r|llllll}\n",
       "  & Df & Sum of Sq & RSS & AIC & F value & Pr(>F)\\\\\n",
       "\\hline\n",
       "\t<none> & NA           &        NA    & 3625.161     & 778.9467     &        NA    &           NA\\\\\n",
       "\tage &  1           &  47.95865    & 3673.119     & 780.7449     &  3.505788    & 6.225595e-02\\\\\n",
       "\tsexe &  1           &  25.63878    & 3650.799     & 778.9834     &  1.874200    & 1.721541e-01\\\\\n",
       "\tscore.information &  1           & 563.44533    & 4188.606     & 818.6983     & 41.187972    & 6.342560e-10\\\\\n",
       "\tamelioration.sante.cat &  3           & 315.45185    & 3940.612     & 797.0601     &  7.686532    & 6.063976e-05\\\\\n",
       "\tamelioration.moral.cat &  3           & 593.71681    & 4218.877     & 816.7794     & 14.466941    & 9.351124e-09\\\\\n",
       "\tprofession.cat &  7           & 129.94016    & 3755.101     & 775.1242     &  1.356950    & 2.238966e-01\\\\\n",
       "\tservice.cat &  7           & 185.75353    & 3810.914     & 779.3881     &  1.939803    & 6.367215e-02\\\\\n",
       "\\end{tabular}\n"
      ],
      "text/markdown": [
       "\n",
       "| <!--/--> | Df | Sum of Sq | RSS | AIC | F value | Pr(>F) | \n",
       "|---|---|---|---|---|---|---|---|\n",
       "| <none> | NA           |        NA    | 3625.161     | 778.9467     |        NA    |           NA | \n",
       "| age |  1           |  47.95865    | 3673.119     | 780.7449     |  3.505788    | 6.225595e-02 | \n",
       "| sexe |  1           |  25.63878    | 3650.799     | 778.9834     |  1.874200    | 1.721541e-01 | \n",
       "| score.information |  1           | 563.44533    | 4188.606     | 818.6983     | 41.187972    | 6.342560e-10 | \n",
       "| amelioration.sante.cat |  3           | 315.45185    | 3940.612     | 797.0601     |  7.686532    | 6.063976e-05 | \n",
       "| amelioration.moral.cat |  3           | 593.71681    | 4218.877     | 816.7794     | 14.466941    | 9.351124e-09 | \n",
       "| profession.cat |  7           | 129.94016    | 3755.101     | 775.1242     |  1.356950    | 2.238966e-01 | \n",
       "| service.cat |  7           | 185.75353    | 3810.914     | 779.3881     |  1.939803    | 6.367215e-02 | \n",
       "\n",
       "\n"
      ],
      "text/plain": [
       "                       Df Sum of Sq RSS      AIC      F value   Pr(>F)      \n",
       "<none>                 NA        NA 3625.161 778.9467        NA           NA\n",
       "age                     1  47.95865 3673.119 780.7449  3.505788 6.225595e-02\n",
       "sexe                    1  25.63878 3650.799 778.9834  1.874200 1.721541e-01\n",
       "score.information       1 563.44533 4188.606 818.6983 41.187972 6.342560e-10\n",
       "amelioration.sante.cat  3 315.45185 3940.612 797.0601  7.686532 6.063976e-05\n",
       "amelioration.moral.cat  3 593.71681 4218.877 816.7794 14.466941 9.351124e-09\n",
       "profession.cat          7 129.94016 3755.101 775.1242  1.356950 2.238966e-01\n",
       "service.cat             7 185.75353 3810.914 779.3881  1.939803 6.367215e-02"
      ]
     },
     "metadata": {},
     "output_type": "display_data"
    }
   ],
   "source": [
    "mod1<-lm(score.relation~age+sexe+score.information+\n",
    "         amelioration.sante.cat+amelioration.moral.cat+profession.cat+service.cat, data=data)\n",
    "\n",
    "# On test ce modèle avec l’effet global de chacune des variables\n",
    "# (incluant les variables catégorielles à plus de deux classes)\n",
    "\n",
    "drop1(mod1,.~.,test=\"F\")"
   ]
  },
  {
   "cell_type": "code",
   "execution_count": 11,
   "metadata": {},
   "outputs": [
    {
     "data": {
      "image/png": "[encoded data removed]",
      "text/plain": [
       "Plot with title \"Histogram of resid(mod1)\""
      ]
     },
     "metadata": {},
     "output_type": "display_data"
    }
   ],
   "source": [
    "# Conditions de validité :\n",
    "# normalité du bruit du modèle\n",
    "hist(resid(mod1))\n",
    "# l'histogramme a plus ou moins une courbe normale, on valide cette hypothèse\n",
    "# les autres conditions de validité sont difficile à prouver (variance du bruit \n",
    "# indépendant de la variance des variables explicatives et de la variance de la variable \n",
    "# à expliquer ; \"vrai\" bruit (pas de corrélation interne)) et n'ont pas été démontré dans \n",
    "# le cours ; on assumera donc de par la normalité du bruit, que le modèle est validé"
   ]
  },
  {
   "cell_type": "markdown",
   "metadata": {},
   "source": [
    "2. Estimez le modèle de régression logistique expliquant la variable « recommander.b » par les variables « age », « sexe », « score.information », « amelioration.sante », « amelioration.moral », « profession »,  « service ».  Notons que la variable « recommander.b » est une transformation de la variable « recommander» en une variable binaire où « recommander.b » vaut 0 si « recommander» vaut 0 ou 1, et 1 si « recommander» vaut 2. (le script doit inclure la vérification éventuelle des conditions de validité de la méthode utilisée)"
   ]
  },
  {
   "cell_type": "code",
   "execution_count": null,
   "metadata": {},
   "outputs": [],
   "source": [
    "# recodons la variable recommander\n",
    "data$recommander.b = ifelse(data$recommander == 2, 1, 0)"
   ]
  },
  {
   "cell_type": "code",
   "execution_count": null,
   "metadata": {},
   "outputs": [],
   "source": [
    "# pour la régression logistique, nous utilisons le modèle linéaire généralisé\n",
    "# la condition principale de validité du modèle étant la présence d'au moins 5 à 10\n",
    "# évènement par variable explicative, on vérifie celà avec la fonction describe de prettyR"
   ]
  },
  {
   "cell_type": "code",
   "execution_count": null,
   "metadata": {},
   "outputs": [],
   "source": [
    "library(prettyR)\n",
    "describe(data)"
   ]
  },
  {
   "cell_type": "code",
   "execution_count": null,
   "metadata": {},
   "outputs": [],
   "source": [
    "model2 = glm(recommander.b~age+sexe+score.information+amelioration.sante+\n",
    "   amelioration.moral+profession+service, data=data)\n",
    "print(model2)"
   ]
  },
  {
   "cell_type": "markdown",
   "metadata": {},
   "source": [
    "##### Corrigé"
   ]
  },
  {
   "cell_type": "code",
   "execution_count": 13,
   "metadata": {},
   "outputs": [],
   "source": [
    "# codage du recommender.b\n",
    "data$recommander.b <- ifelse(data$recommander == 2, 1, 0)\n",
    "# si data$recommander vaut 2, alors data$recommander.b vaut 1 ; sinon, il vaut 0\n",
    "# la profession est déjà modifiée en variable qualitative, il n'y a pas besoin de rechanger cela\n",
    "# la référence est toujours \"agriculteur\""
   ]
  },
  {
   "cell_type": "code",
   "execution_count": 16,
   "metadata": {},
   "outputs": [
    {
     "data": {
      "text/plain": [
       "\n",
       "  0   1 \n",
       "136 269 "
      ]
     },
     "metadata": {},
     "output_type": "display_data"
    },
    {
     "name": "stdout",
     "output_type": "stream",
     "text": [
      "Description of data \n"
     ]
    },
    {
     "data": {
      "text/plain": [
       "\n",
       " Numeric \n",
       "                    mean median    var    sd valid.n\n",
       "service             4.55      5   5.19  2.28     534\n",
       "sexe                0.50      0   0.25  0.50     534\n",
       "age                58.21     60 317.17 17.81     528\n",
       "profession          4.43      4   3.06  1.75     427\n",
       "amelioration.sante  2.23      2   0.59  0.77     376\n",
       "amelioration.moral  1.68      1   0.90  0.95     383\n",
       "recommander         1.62      2   0.31  0.56     405\n",
       "score.relation     35.22     36  21.38  4.62     349\n",
       "score.information  31.91     33  46.15  6.79     358\n",
       "recommander.b       0.66      1   0.22  0.47     405\n",
       "\n",
       " Factor \n",
       "              \n",
       "profession.cat      3   <NA>     4     5     6     8     2     7    1\n",
       "       Count   124.00 107.00 88.00 69.00 44.00 41.00 38.00 22.00 1.00\n",
       "       Percent  23.22  20.04 16.48 12.92  8.24  7.68  7.12  4.12 0.19\n",
       "Mode 3 \n",
       "                      \n",
       "amelioration.sante.cat      3   <NA>      2     1    0\n",
       "               Count   161.00 158.00 144.00 68.00 3.00\n",
       "               Percent  30.15  29.59  26.97 12.73 0.56\n",
       "Mode 3 \n",
       "                      \n",
       "amelioration.moral.cat      1   <NA>      3     2     0\n",
       "               Count   179.00 151.00 106.00 73.00 25.00\n",
       "               Percent  33.52  28.28  19.85 13.67  4.68\n",
       "Mode 1 \n",
       "           \n",
       "service.cat    5     3     4     8     7     1     6     2\n",
       "    Count   71.0 70.00 69.00 69.00 67.00 65.00 64.00 59.00\n",
       "    Percent 13.3 13.11 12.92 12.92 12.55 12.17 11.99 11.05\n",
       "Mode 5 "
      ]
     },
     "metadata": {},
     "output_type": "display_data"
    },
    {
     "data": {
      "text/html": [
       "<table>\n",
       "<thead><tr><th></th><th scope=col>Df</th><th scope=col>Deviance</th><th scope=col>AIC</th><th scope=col>scaled dev.</th><th scope=col>Pr(&gt;Chi)</th></tr></thead>\n",
       "<tbody>\n",
       "\t<tr><th scope=row>&lt;none&gt;</th><td>NA          </td><td>57.32199    </td><td>375.0709    </td><td>        NA  </td><td>          NA</td></tr>\n",
       "\t<tr><th scope=row>age</th><td> 1          </td><td>57.66626    </td><td>374.9511    </td><td> 1.8802157  </td><td>1.703096e-01</td></tr>\n",
       "\t<tr><th scope=row>sexe</th><td> 1          </td><td>57.77867    </td><td>375.5626    </td><td> 2.4917063  </td><td>1.144476e-01</td></tr>\n",
       "\t<tr><th scope=row>score.information</th><td> 1          </td><td>62.40803    </td><td>399.7639    </td><td>26.6930089  </td><td>2.384828e-07</td></tr>\n",
       "\t<tr><th scope=row>amelioration.sante</th><td> 1          </td><td>58.11662    </td><td>377.3938    </td><td> 4.3229307  </td><td>3.760211e-02</td></tr>\n",
       "\t<tr><th scope=row>amelioration.moral</th><td> 1          </td><td>57.83739    </td><td>375.8815    </td><td> 2.8106472  </td><td>9.364059e-02</td></tr>\n",
       "\t<tr><th scope=row>profession</th><td> 1          </td><td>57.40262    </td><td>373.5123    </td><td> 0.4413696  </td><td>5.064621e-01</td></tr>\n",
       "\t<tr><th scope=row>service</th><td> 1          </td><td>57.35998    </td><td>373.2789    </td><td> 0.2079967  </td><td>6.483421e-01</td></tr>\n",
       "</tbody>\n",
       "</table>\n"
      ],
      "text/latex": [
       "\\begin{tabular}{r|lllll}\n",
       "  & Df & Deviance & AIC & scaled dev. & Pr(>Chi)\\\\\n",
       "\\hline\n",
       "\t<none> & NA           & 57.32199     & 375.0709     &         NA   &           NA\\\\\n",
       "\tage &  1           & 57.66626     & 374.9511     &  1.8802157   & 1.703096e-01\\\\\n",
       "\tsexe &  1           & 57.77867     & 375.5626     &  2.4917063   & 1.144476e-01\\\\\n",
       "\tscore.information &  1           & 62.40803     & 399.7639     & 26.6930089   & 2.384828e-07\\\\\n",
       "\tamelioration.sante &  1           & 58.11662     & 377.3938     &  4.3229307   & 3.760211e-02\\\\\n",
       "\tamelioration.moral &  1           & 57.83739     & 375.8815     &  2.8106472   & 9.364059e-02\\\\\n",
       "\tprofession &  1           & 57.40262     & 373.5123     &  0.4413696   & 5.064621e-01\\\\\n",
       "\tservice &  1           & 57.35998     & 373.2789     &  0.2079967   & 6.483421e-01\\\\\n",
       "\\end{tabular}\n"
      ],
      "text/markdown": [
       "\n",
       "| <!--/--> | Df | Deviance | AIC | scaled dev. | Pr(>Chi) | \n",
       "|---|---|---|---|---|---|---|---|\n",
       "| <none> | NA           | 57.32199     | 375.0709     |         NA   |           NA | \n",
       "| age |  1           | 57.66626     | 374.9511     |  1.8802157   | 1.703096e-01 | \n",
       "| sexe |  1           | 57.77867     | 375.5626     |  2.4917063   | 1.144476e-01 | \n",
       "| score.information |  1           | 62.40803     | 399.7639     | 26.6930089   | 2.384828e-07 | \n",
       "| amelioration.sante |  1           | 58.11662     | 377.3938     |  4.3229307   | 3.760211e-02 | \n",
       "| amelioration.moral |  1           | 57.83739     | 375.8815     |  2.8106472   | 9.364059e-02 | \n",
       "| profession |  1           | 57.40262     | 373.5123     |  0.4413696   | 5.064621e-01 | \n",
       "| service |  1           | 57.35998     | 373.2789     |  0.2079967   | 6.483421e-01 | \n",
       "\n",
       "\n"
      ],
      "text/plain": [
       "                   Df Deviance AIC      scaled dev. Pr(>Chi)    \n",
       "<none>             NA 57.32199 375.0709         NA            NA\n",
       "age                 1 57.66626 374.9511  1.8802157  1.703096e-01\n",
       "sexe                1 57.77867 375.5626  2.4917063  1.144476e-01\n",
       "score.information   1 62.40803 399.7639 26.6930089  2.384828e-07\n",
       "amelioration.sante  1 58.11662 377.3938  4.3229307  3.760211e-02\n",
       "amelioration.moral  1 57.83739 375.8815  2.8106472  9.364059e-02\n",
       "profession          1 57.40262 373.5123  0.4413696  5.064621e-01\n",
       "service             1 57.35998 373.2789  0.2079967  6.483421e-01"
      ]
     },
     "metadata": {},
     "output_type": "display_data"
    }
   ],
   "source": [
    "mod2 <- glm(recommander.b ~ age + sexe + score.information + amelioration.sante + \n",
    "            amelioration.moral + profession + service, data = data)\n",
    "\n",
    "# On regarde les conditions de validité du modèle. Il faut au moins 5 à 10\n",
    "# évènements par variable explicative.\n",
    "\n",
    "table(data$recommander.b)\n",
    "library(\"Epi\")\n",
    "library(\"prettyR\")\n",
    "describe(data)\n",
    "\n",
    "# Pour la variable à expliquer, on a 136 détenus pour la classe 0 de\n",
    "# « recommander.b » et 269 détenus pour la classe 1 de « recommander.b ».\n",
    "# Pour les variables explicatives, on en a en fait 1 pour « age », 1 pour\n",
    "# « sexe », 1 pour « score.information »,\n",
    "# 3 pour « amelioration.sante.cat », 3 pour « amelioration.moral.cat »,\n",
    "# 7 pour « profession.cat », 7 pour « service.cat », soit un total de 23.\n",
    "# 23*5=115 et 23*10=230.\n",
    "# Si l’on s’intéresse à la classe 0 de « recommander.b » (136 détenus),\n",
    "# nous sommes dans la fourchette des conditions de validité. Si l’on\n",
    "# s’intéresse à la classe 1 de « recommander.b » (269 détenus), nous\n",
    "# sommes dans les conditions de validité.\n",
    "\n",
    "# On teste le modèle\n",
    "drop1(mod2,.~., test=\"Chisq\")"
   ]
  },
  {
   "cell_type": "code",
   "execution_count": null,
   "metadata": {},
   "outputs": [],
   "source": []
  }
 ],
 "metadata": {
  "kernelspec": {
   "display_name": "R",
   "language": "R",
   "name": "ir"
  },
  "language_info": {
   "codemirror_mode": "r",
   "file_extension": ".r",
   "mimetype": "text/x-r-source",
   "name": "R",
   "pygments_lexer": "r",
   "version": "3.5.1"
  }
 },
 "nbformat": 4,
 "nbformat_minor": 2
}
