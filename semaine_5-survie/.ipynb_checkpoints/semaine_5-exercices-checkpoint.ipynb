{
 "cells": [
  {
   "cell_type": "code",
   "execution_count": 1,
   "metadata": {},
   "outputs": [],
   "source": [
    "alcool <- read.csv2(\"alcool.csv\")"
   ]
  },
  {
   "cell_type": "markdown",
   "metadata": {},
   "source": [
    "1. On souhaite comparer le risque de rechute de la maladie alcoolique dans deux sous-groupes: le groupe des plus de 50 ans (strictement plus de 50 ans, recodé en “1”) et le groupe des moins de 50 ans (50 ou moins, recodé en “0”). Donner la p-value associée au test statistique correspondant (4 chiffres après la virgule):"
   ]
  },
  {
   "cell_type": "code",
   "execution_count": 2,
   "metadata": {},
   "outputs": [
    {
     "name": "stdout",
     "output_type": "stream",
     "text": [
      "'data.frame':\t125 obs. of  5 variables:\n",
      " $ t     : int  121 121 40 39 66 64 5 30 34 5 ...\n",
      " $ SEVRE : int  0 0 0 0 0 0 1 0 0 0 ...\n",
      " $ AGE   : int  53 52 45 48 45 42 35 35 41 37 ...\n",
      " $ SEXE  : int  1 2 2 1 1 1 1 1 1 1 ...\n",
      " $ EDVNEG: int  0 0 0 1 0 0 0 0 0 0 ...\n"
     ]
    }
   ],
   "source": [
    "str(alcool)"
   ]
  },
  {
   "cell_type": "code",
   "execution_count": 5,
   "metadata": {},
   "outputs": [],
   "source": [
    "alcool$AGE.b = ifelse(alcool$AGE>50, 1, 0)"
   ]
  },
  {
   "cell_type": "code",
   "execution_count": 13,
   "metadata": {},
   "outputs": [
    {
     "data": {
      "text/html": [
       "0.0218997877249163"
      ],
      "text/latex": [
       "0.0218997877249163"
      ],
      "text/markdown": [
       "0.0218997877249163"
      ],
      "text/plain": [
       "[1] 0.02189979"
      ]
     },
     "metadata": {},
     "output_type": "display_data"
    }
   ],
   "source": [
    "library(survival)\n",
    "diff = survdiff(Surv(t,SEVRE)~AGE.b,data=alcool)\n",
    "pchisq(diff$chisq, length(diff$n)-1, lower.tail = FALSE)"
   ]
  },
  {
   "cell_type": "markdown",
   "metadata": {},
   "source": [
    "2. On souhaite tester l'association entre le risque de rechute de la maladie alcoolique et les variables SEXE, AGE et l'interaction entre les variables SEXE et AGE. Donner la p-value associée à l'interaction entre les variables SEXE et AGE dans le test correspondant (2 chiffres après la virgule):"
   ]
  },
  {
   "cell_type": "code",
   "execution_count": 14,
   "metadata": {},
   "outputs": [
    {
     "data": {
      "text/plain": [
       "Call:\n",
       "coxph(formula = Surv(t, SEVRE) ~ AGE + SEXE + SEXE * AGE, data = alcool)\n",
       "\n",
       "            coef exp(coef) se(coef)     z    p\n",
       "AGE       0.0317    1.0322   0.0873  0.36 0.72\n",
       "SEXE      3.2147   24.8958   3.3685  0.95 0.34\n",
       "AGE:SEXE -0.0711    0.9313   0.0763 -0.93 0.35\n",
       "\n",
       "Likelihood ratio test=4.96  on 3 df, p=0.2\n",
       "n= 125, number of events= 27 "
      ]
     },
     "metadata": {},
     "output_type": "display_data"
    }
   ],
   "source": [
    "coxph(Surv(t, SEVRE)~AGE+SEXE+SEXE*AGE, data=alcool)"
   ]
  },
  {
   "cell_type": "markdown",
   "metadata": {},
   "source": [
    "3. Le dataframe \"exdata\" contient des variables quantitatives et ordonnées. Il ne compte par ailleurs que très peu de données manquantes. Pour calculer la matrice de corrélation des variables de \"exdata\" et afficher ces corrélations avec 2 décimales, quelle instruction faut-il utiliser ?"
   ]
  },
  {
   "cell_type": "code",
   "execution_count": 15,
   "metadata": {},
   "outputs": [],
   "source": [
    "# round(cor(exdata, use = ‘pairwise’), digits = 2) "
   ]
  },
  {
   "cell_type": "markdown",
   "metadata": {},
   "source": [
    "4. Pour représenter graphiquement la matrice de corrélation des variables de \"exdata\" à l'aide d'une analyse en composantes principales, quelle instruction faut-il utiliser ?"
   ]
  },
  {
   "cell_type": "code",
   "execution_count": 16,
   "metadata": {},
   "outputs": [],
   "source": [
    "# mdspca(exdata)"
   ]
  },
  {
   "cell_type": "markdown",
   "metadata": {},
   "source": [
    "5. Toujours pour les variables de \"exdata\", on se propose de réaliser une classification hiérarchique avec la métrique de Ward et de stocker le résultat obtenu dans l'objet appelé ‘cah’. Quelle commande faut-il utiliser ?"
   ]
  },
  {
   "cell_type": "code",
   "execution_count": 17,
   "metadata": {},
   "outputs": [],
   "source": [
    "# cah <- hclust(dist(t(scale(exdata))), method = ‘ward’)"
   ]
  },
  {
   "cell_type": "markdown",
   "metadata": {},
   "source": [
    "6. Représentez graphiquement cette classification hiérarchique."
   ]
  },
  {
   "cell_type": "code",
   "execution_count": 18,
   "metadata": {},
   "outputs": [],
   "source": [
    "# plot(cah)"
   ]
  }
 ],
 "metadata": {
  "kernelspec": {
   "display_name": "R",
   "language": "R",
   "name": "ir"
  },
  "language_info": {
   "codemirror_mode": "r",
   "file_extension": ".r",
   "mimetype": "text/x-r-source",
   "name": "R",
   "pygments_lexer": "r",
   "version": "3.5.1"
  }
 },
 "nbformat": 4,
 "nbformat_minor": 2
}
